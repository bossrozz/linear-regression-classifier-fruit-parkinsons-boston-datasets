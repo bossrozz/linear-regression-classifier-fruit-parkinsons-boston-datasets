{
 "cells": [
  {
   "cell_type": "code",
   "execution_count": 1,
   "id": "a0cdb27c",
   "metadata": {},
   "outputs": [],
   "source": [
    "import numpy as np\n",
    "import pandas as pd\n",
    "import matplotlib.pyplot as plt\n",
    "import seaborn as sns\n",
    "import time\n",
    "from datetime import datetime"
   ]
  },
  {
   "cell_type": "markdown",
   "id": "c9ee29f1",
   "metadata": {},
   "source": [
    "### Fruit Data Multiclass using KNN, LogisticRegression (L1, L2) and LogisticSVM(L1, L2)\n",
    "\n",
    "Load fruit_data_with_colors.txt Data Set into a dataframe and displaying its first 5 entries.\n"
   ]
  },
  {
   "cell_type": "code",
   "execution_count": 2,
   "id": "fa1720d4",
   "metadata": {},
   "outputs": [
    {
     "data": {
      "text/html": [
       "<div>\n",
       "<style scoped>\n",
       "    .dataframe tbody tr th:only-of-type {\n",
       "        vertical-align: middle;\n",
       "    }\n",
       "\n",
       "    .dataframe tbody tr th {\n",
       "        vertical-align: top;\n",
       "    }\n",
       "\n",
       "    .dataframe thead th {\n",
       "        text-align: right;\n",
       "    }\n",
       "</style>\n",
       "<table border=\"1\" class=\"dataframe\">\n",
       "  <thead>\n",
       "    <tr style=\"text-align: right;\">\n",
       "      <th></th>\n",
       "      <th>fruit_label</th>\n",
       "      <th>fruit_name</th>\n",
       "      <th>fruit_subtype</th>\n",
       "      <th>mass</th>\n",
       "      <th>width</th>\n",
       "      <th>height</th>\n",
       "      <th>color_score</th>\n",
       "    </tr>\n",
       "  </thead>\n",
       "  <tbody>\n",
       "    <tr>\n",
       "      <th>0</th>\n",
       "      <td>1</td>\n",
       "      <td>apple</td>\n",
       "      <td>granny_smith</td>\n",
       "      <td>192</td>\n",
       "      <td>8.4</td>\n",
       "      <td>7.3</td>\n",
       "      <td>0.55</td>\n",
       "    </tr>\n",
       "    <tr>\n",
       "      <th>1</th>\n",
       "      <td>1</td>\n",
       "      <td>apple</td>\n",
       "      <td>granny_smith</td>\n",
       "      <td>180</td>\n",
       "      <td>8.0</td>\n",
       "      <td>6.8</td>\n",
       "      <td>0.59</td>\n",
       "    </tr>\n",
       "    <tr>\n",
       "      <th>2</th>\n",
       "      <td>1</td>\n",
       "      <td>apple</td>\n",
       "      <td>granny_smith</td>\n",
       "      <td>176</td>\n",
       "      <td>7.4</td>\n",
       "      <td>7.2</td>\n",
       "      <td>0.60</td>\n",
       "    </tr>\n",
       "    <tr>\n",
       "      <th>3</th>\n",
       "      <td>2</td>\n",
       "      <td>mandarin</td>\n",
       "      <td>mandarin</td>\n",
       "      <td>86</td>\n",
       "      <td>6.2</td>\n",
       "      <td>4.7</td>\n",
       "      <td>0.80</td>\n",
       "    </tr>\n",
       "    <tr>\n",
       "      <th>4</th>\n",
       "      <td>2</td>\n",
       "      <td>mandarin</td>\n",
       "      <td>mandarin</td>\n",
       "      <td>84</td>\n",
       "      <td>6.0</td>\n",
       "      <td>4.6</td>\n",
       "      <td>0.79</td>\n",
       "    </tr>\n",
       "  </tbody>\n",
       "</table>\n",
       "</div>"
      ],
      "text/plain": [
       "   fruit_label fruit_name fruit_subtype  mass  width  height  color_score\n",
       "0            1      apple  granny_smith   192    8.4     7.3         0.55\n",
       "1            1      apple  granny_smith   180    8.0     6.8         0.59\n",
       "2            1      apple  granny_smith   176    7.4     7.2         0.60\n",
       "3            2   mandarin      mandarin    86    6.2     4.7         0.80\n",
       "4            2   mandarin      mandarin    84    6.0     4.6         0.79"
      ]
     },
     "execution_count": 2,
     "metadata": {},
     "output_type": "execute_result"
    }
   ],
   "source": [
    "df_fruits = pd.read_table('fruit_data_with_colors.txt')\n",
    "df_fruits.head(5)"
   ]
  },
  {
   "cell_type": "markdown",
   "id": "a954902d",
   "metadata": {},
   "source": [
    "Checking null values if needs any imputation."
   ]
  },
  {
   "cell_type": "code",
   "execution_count": 3,
   "id": "c6805a70",
   "metadata": {},
   "outputs": [
    {
     "data": {
      "text/plain": [
       "fruit_label      0\n",
       "fruit_name       0\n",
       "fruit_subtype    0\n",
       "mass             0\n",
       "width            0\n",
       "height           0\n",
       "color_score      0\n",
       "dtype: int64"
      ]
     },
     "execution_count": 3,
     "metadata": {},
     "output_type": "execute_result"
    }
   ],
   "source": [
    "df_fruits.isnull().sum()"
   ]
  },
  {
   "cell_type": "markdown",
   "id": "6d657de0",
   "metadata": {},
   "source": [
    "Checking stats of each column in the Data Frame using describe to see the data distribution and how far the data are from each other."
   ]
  },
  {
   "cell_type": "code",
   "execution_count": 4,
   "id": "bfc14fb8",
   "metadata": {},
   "outputs": [
    {
     "data": {
      "text/html": [
       "<div>\n",
       "<style scoped>\n",
       "    .dataframe tbody tr th:only-of-type {\n",
       "        vertical-align: middle;\n",
       "    }\n",
       "\n",
       "    .dataframe tbody tr th {\n",
       "        vertical-align: top;\n",
       "    }\n",
       "\n",
       "    .dataframe thead th {\n",
       "        text-align: right;\n",
       "    }\n",
       "</style>\n",
       "<table border=\"1\" class=\"dataframe\">\n",
       "  <thead>\n",
       "    <tr style=\"text-align: right;\">\n",
       "      <th></th>\n",
       "      <th>fruit_label</th>\n",
       "      <th>mass</th>\n",
       "      <th>width</th>\n",
       "      <th>height</th>\n",
       "      <th>color_score</th>\n",
       "    </tr>\n",
       "  </thead>\n",
       "  <tbody>\n",
       "    <tr>\n",
       "      <th>count</th>\n",
       "      <td>59.000000</td>\n",
       "      <td>59.000000</td>\n",
       "      <td>59.000000</td>\n",
       "      <td>59.000000</td>\n",
       "      <td>59.000000</td>\n",
       "    </tr>\n",
       "    <tr>\n",
       "      <th>mean</th>\n",
       "      <td>2.542373</td>\n",
       "      <td>163.118644</td>\n",
       "      <td>7.105085</td>\n",
       "      <td>7.693220</td>\n",
       "      <td>0.762881</td>\n",
       "    </tr>\n",
       "    <tr>\n",
       "      <th>std</th>\n",
       "      <td>1.208048</td>\n",
       "      <td>55.018832</td>\n",
       "      <td>0.816938</td>\n",
       "      <td>1.361017</td>\n",
       "      <td>0.076857</td>\n",
       "    </tr>\n",
       "    <tr>\n",
       "      <th>min</th>\n",
       "      <td>1.000000</td>\n",
       "      <td>76.000000</td>\n",
       "      <td>5.800000</td>\n",
       "      <td>4.000000</td>\n",
       "      <td>0.550000</td>\n",
       "    </tr>\n",
       "    <tr>\n",
       "      <th>25%</th>\n",
       "      <td>1.000000</td>\n",
       "      <td>140.000000</td>\n",
       "      <td>6.600000</td>\n",
       "      <td>7.200000</td>\n",
       "      <td>0.720000</td>\n",
       "    </tr>\n",
       "    <tr>\n",
       "      <th>50%</th>\n",
       "      <td>3.000000</td>\n",
       "      <td>158.000000</td>\n",
       "      <td>7.200000</td>\n",
       "      <td>7.600000</td>\n",
       "      <td>0.750000</td>\n",
       "    </tr>\n",
       "    <tr>\n",
       "      <th>75%</th>\n",
       "      <td>4.000000</td>\n",
       "      <td>177.000000</td>\n",
       "      <td>7.500000</td>\n",
       "      <td>8.200000</td>\n",
       "      <td>0.810000</td>\n",
       "    </tr>\n",
       "    <tr>\n",
       "      <th>max</th>\n",
       "      <td>4.000000</td>\n",
       "      <td>362.000000</td>\n",
       "      <td>9.600000</td>\n",
       "      <td>10.500000</td>\n",
       "      <td>0.930000</td>\n",
       "    </tr>\n",
       "  </tbody>\n",
       "</table>\n",
       "</div>"
      ],
      "text/plain": [
       "       fruit_label        mass      width     height  color_score\n",
       "count    59.000000   59.000000  59.000000  59.000000    59.000000\n",
       "mean      2.542373  163.118644   7.105085   7.693220     0.762881\n",
       "std       1.208048   55.018832   0.816938   1.361017     0.076857\n",
       "min       1.000000   76.000000   5.800000   4.000000     0.550000\n",
       "25%       1.000000  140.000000   6.600000   7.200000     0.720000\n",
       "50%       3.000000  158.000000   7.200000   7.600000     0.750000\n",
       "75%       4.000000  177.000000   7.500000   8.200000     0.810000\n",
       "max       4.000000  362.000000   9.600000  10.500000     0.930000"
      ]
     },
     "execution_count": 4,
     "metadata": {},
     "output_type": "execute_result"
    }
   ],
   "source": [
    "df_fruits.describe()"
   ]
  },
  {
   "cell_type": "markdown",
   "id": "6e7819a6",
   "metadata": {},
   "source": [
    "### Distribution plot of each Fruit kind and its features.\n",
    "Apple, Orange and Lemon have good amount of distribution with this data set. However mandarin only has 4 data points and ideally a 75-25 Train-Test split may suffice."
   ]
  },
  {
   "cell_type": "code",
   "execution_count": 5,
   "id": "db13bc0b",
   "metadata": {},
   "outputs": [
    {
     "data": {
      "image/png": "[encoded data removed]",
      "text/plain": [
       "<Figure size 360x216 with 1 Axes>"
      ]
     },
     "metadata": {
      "needs_background": "light"
     },
     "output_type": "display_data"
    }
   ],
   "source": [
    "plt.rcParams[\"figure.figsize\"] = (5, 3)\n",
    "ax = sns.histplot(df_fruits, x=\"fruit_name\", hue=\"fruit_name\")\n",
    "ax.legend([],[], frameon=False)\n",
    "ax.set_xlabel('Fruit Name')\n",
    "plt.show()"
   ]
  },
  {
   "cell_type": "markdown",
   "id": "f7a5c8c6",
   "metadata": {},
   "source": [
    "We've also considered using the subtype as the Target but it would further increase the complexity in the classes given how small our data set is already and its features are very close to each other."
   ]
  },
  {
   "cell_type": "code",
   "execution_count": 6,
   "id": "0902f975",
   "metadata": {},
   "outputs": [
    {
     "data": {
      "image/png": "[encoded data removed]",
      "text/plain": [
       "<Figure size 1296x360 with 1 Axes>"
      ]
     },
     "metadata": {
      "needs_background": "light"
     },
     "output_type": "display_data"
    }
   ],
   "source": [
    "plt.rcParams[\"figure.figsize\"] = (18, 5)\n",
    "ax = sns.histplot(df_fruits, x=\"fruit_subtype\", hue=\"fruit_name\")\n",
    "ax.set_xlabel('Fruit Subtype')\n",
    "plt.show()"
   ]
  },
  {
   "cell_type": "markdown",
   "id": "b0b0ae44",
   "metadata": {},
   "source": [
    "### Distribution Histogram for each Feature\n",
    "We wanted to look into the distribution of each feature to better understand how we can differentiate each fruit.\n",
    "What we've noticed Mandarin's features for mass, width and height are easily distinguishable. Apple and Orange have almost same distribution for its features except color_score. Then lemon is both skewed in one side for its height and width."
   ]
  },
  {
   "cell_type": "code",
   "execution_count": 7,
   "id": "a0774d24",
   "metadata": {},
   "outputs": [
    {
     "data": {
      "image/png": "[encoded data removed]",
      "text/plain": [
       "<Figure size 1440x360 with 4 Axes>"
      ]
     },
     "metadata": {
      "needs_background": "light"
     },
     "output_type": "display_data"
    }
   ],
   "source": [
    "plt.rcParams[\"figure.figsize\"] = (3, 2)\n",
    "ax = sns.displot(df_fruits, x=\"mass\", col=\"fruit_name\", kind='hist')\n",
    "plt.show()"
   ]
  },
  {
   "cell_type": "code",
   "execution_count": 8,
   "id": "c07b2faa",
   "metadata": {},
   "outputs": [
    {
     "data": {
      "image/png": "[encoded data removed]",
      "text/plain": [
       "<Figure size 1440x360 with 4 Axes>"
      ]
     },
     "metadata": {
      "needs_background": "light"
     },
     "output_type": "display_data"
    }
   ],
   "source": [
    "plt.rcParams[\"figure.figsize\"] = (3, 2)\n",
    "ax = sns.displot(df_fruits, x=\"width\", col=\"fruit_name\", kind='hist')\n",
    "plt.show()"
   ]
  },
  {
   "cell_type": "code",
   "execution_count": 9,
   "id": "37eb0743",
   "metadata": {},
   "outputs": [
    {
     "data": {
      "image/png": "[encoded data removed]",
      "text/plain": [
       "<Figure size 1440x360 with 4 Axes>"
      ]
     },
     "metadata": {
      "needs_background": "light"
     },
     "output_type": "display_data"
    }
   ],
   "source": [
    "plt.rcParams[\"figure.figsize\"] = (3, 2)\n",
    "ax = sns.displot(df_fruits, x=\"height\", col=\"fruit_name\", kind='hist')\n",
    "plt.show()"
   ]
  },
  {
   "cell_type": "code",
   "execution_count": 10,
   "id": "43efe1dc",
   "metadata": {},
   "outputs": [
    {
     "data": {
      "image/png": "[encoded data removed]",
      "text/plain": [
       "<Figure size 1440x360 with 4 Axes>"
      ]
     },
     "metadata": {
      "needs_background": "light"
     },
     "output_type": "display_data"
    }
   ],
   "source": [
    "plt.rcParams[\"figure.figsize\"] = (3, 2)\n",
    "ax = sns.displot(df_fruits, x=\"color_score\", col=\"fruit_name\", kind='hist')\n",
    "plt.show()"
   ]
  },
  {
   "cell_type": "markdown",
   "id": "fd37e71a",
   "metadata": {},
   "source": [
    "### Scatter Pairplots to visualize the relationship of each feature and if there's a pattern.\n",
    "As seen in the distribution feature charts the mandarin can be easily spotted in its own region for each of its feature combination in the matrix.\n",
    "Lemon can be easily be grouped with its height and width, while apple and oranges are overlapping each other in a certain section where we can make use of mass or color_score to help distinguished them from each other and we've tried using a derived features (width, height, color_score) and (width, height, mass) to see if it improves which will show at the execution part of this notebook.\n"
   ]
  },
  {
   "cell_type": "code",
   "execution_count": 11,
   "id": "2339ad17",
   "metadata": {},
   "outputs": [
    {
     "data": {
      "text/plain": [
       "<seaborn.axisgrid.PairGrid at 0x1c6d9bcb430>"
      ]
     },
     "execution_count": 11,
     "metadata": {},
     "output_type": "execute_result"
    },
    {
     "data": {
      "image/png": "[encoded data removed]",
      "text/plain": [
       "<Figure size 804x720 with 20 Axes>"
      ]
     },
     "metadata": {
      "needs_background": "light"
     },
     "output_type": "display_data"
    }
   ],
   "source": [
    "df_scatter = df_fruits.drop('fruit_label', axis=1)\n",
    "sns.pairplot(df_scatter, hue=\"fruit_name\")"
   ]
  },
  {
   "cell_type": "markdown",
   "id": "7d7be9db",
   "metadata": {},
   "source": [
    "### Models used for prediction and how we updated our code\n",
    "We did a base run separate notebook using the original parameters for both L1, L2 LogisticRegression and L1 and L2 SVM and initially, it did not run so we changed the parameters for each here are the findings. <br> <br>\n",
    "L1 LR with liblinear does not converge even with 10m iterations so we needed to modify the solver. <br> <br>\n",
    "L2 LR was encountering errors with the default ‘lbfgs’ solver and we tried all solvers available, and ‘saga’ was having the best result, however, in the documentation, this is ideal for large datasets, and we don’t have large one in our case, so this is something we wanted to do further research. <br> <br>\n",
    "For both SVM L1 L2 we increased the iterations to 10m since when adding the derived features we have it fails to converge. <br>\n",
    "We also played around with the multi_class option and we saw that multinomial is performing better over OVR for LR hence we just left it to auto and crammer_singer does not converge for SVM so we kept it back to OVR. <br> <br>\n",
    "KNN worked as expected and we just used the train samples – 1 as our data K for the tests. <br> <br>\n",
    "We have also modified the code for top predictor where we returned the top predictor for each class and took the mean of the features across to identify the overall top predictor <br> <br>\n",
    "We have set our trials = at 30 <br>\n",
    "C from 1e8 to 1e-8 to 5000 <br>\n",
    "Train-Test split 75-25 <br>\n",
    "\n",
    "\n"
   ]
  },
  {
   "cell_type": "code",
   "execution_count": 12,
   "id": "04806393",
   "metadata": {},
   "outputs": [],
   "source": [
    "from sklearn.neighbors import KNeighborsClassifier\n",
    "from sklearn.linear_model import LogisticRegression\n",
    "from sklearn.svm import LinearSVC\n",
    "from sklearn.svm import SVC\n",
    "from sklearn.model_selection import train_test_split\n",
    "\n",
    "Number_trials = 30\n",
    "t_size = 0.25\n",
    "C = [1e-8, 1e-4, 1e-3, 1e-2, 0.1, 0.2,0.4, 0.75, 1, \n",
    "     1.5, 3, 5, 10, 15, 20, 100, 300, 1000, 5000]\n",
    "\n",
    "def train_knn(X, y):\n",
    "    \n",
    "    start_time = time.time()\n",
    "    score_train = []\n",
    "    score_test = []\n",
    "    print(f'KNN Start: {datetime.now()}')\n",
    "\n",
    "    for seed in range(Number_trials):\n",
    "        X_train, X_test, y_train, y_test = (train_test_split(X, y, \n",
    "                                                             test_size=t_size, \n",
    "                                                             random_state=seed))\n",
    "        n_knn = len(X_train) - 1\n",
    "        neighbors_settings = range(1, n_knn)\n",
    "        acc_train = []\n",
    "        acc_test = []\n",
    "\n",
    "        for n_neighbors in neighbors_settings:\n",
    "            clf = KNeighborsClassifier(n_neighbors=n_neighbors, weights='distance') \n",
    "            clf.fit(X_train, y_train)    \n",
    "            acc_train.append(clf.score(X_train, y_train))\n",
    "            acc_test.append(clf.score(X_test, y_test))\n",
    "\n",
    "        score_train.append(acc_train)\n",
    "        score_test.append(acc_test)   \n",
    "        \n",
    "    score = np.mean(score_test, axis=0)\n",
    "    run_time = (time.time() - start_time)\n",
    "    return ['kNN', np.amax(score), 'N_Neighbor = {0}'\n",
    "            .format(np.argmax(score)+1), 'NA', 'NA', run_time]\n",
    "\n",
    "def train_logistic(X, y, reg):\n",
    "    \n",
    "    start_time = time.time()\n",
    "    score_train = []\n",
    "    score_test = []\n",
    "    weighted_coefs=[]\n",
    "    \n",
    "    print(f'Logistics {reg} Start: {datetime.now()}')\n",
    "    \n",
    "    for seed in range(Number_trials):\n",
    "        training_accuracy = []  \n",
    "        test_accuracy = []\n",
    "        X_train, X_test, y_train, y_test = (train_test_split(X, y, test_size=\n",
    "                                                             t_size, \n",
    "                                                             random_state=seed\n",
    "                                                             ))\n",
    "        for alpha_run in C:\n",
    "            if reg == 'l1':\n",
    "                lr = (LogisticRegression(C=alpha_run, penalty=reg, \n",
    "                                         solver='saga', max_iter=1000000).fit(X_train, y_train))\n",
    "            if reg == 'l2':\n",
    "                lr = (LogisticRegression(C=alpha_run, penalty=reg, solver='saga',\n",
    "                                         dual=False, max_iter=1000000).fit(X_train, y_train))\n",
    "\n",
    "            training_accuracy.append(lr.score(X_train, y_train))\n",
    "            test_accuracy.append(lr.score(X_test, y_test))\n",
    "            coefs=lr.coef_ \n",
    "            weighted_coefs.append(coefs) \n",
    "                \n",
    "        score_train.append(training_accuracy)\n",
    "        score_test.append(test_accuracy)\n",
    "    \n",
    "    mean_coefs = np.mean(np.mean(weighted_coefs, axis=0), axis=1)\n",
    "    score = np.mean(score_test, axis=0)\n",
    "    top_pred_var = ([f'{lr.classes_[i]}: {X.columns[np.argmax(weights)]}' \n",
    "                     for i, weights in enumerate(np.abs(np.mean(weighted_coefs, axis=0)))])\n",
    "\n",
    "    #Plot the weight of the parameters\n",
    "    top_predictor=X.columns[np.argmax(np.abs(mean_coefs))]\n",
    "    abs_mean_coefs = np.abs(mean_coefs)\n",
    "    coefs_count = len(abs_mean_coefs)\n",
    "    fig, ax = plt.subplots(figsize=(2,5))\n",
    "    ax.barh(np.arange(coefs_count), sorted(abs_mean_coefs))\n",
    "     \n",
    "    ax.set_yticks(np.arange(coefs_count))\n",
    "    ax.set_yticklabels(X.columns[np.argsort(abs_mean_coefs)])\n",
    "    \n",
    "    run_time = (time.time() - start_time)\n",
    "    return ['Logistic ({0})'.format(reg), np.amax(score), \\\n",
    "            'C = {0}'.format(C[np.argmax(score)]), top_predictor, \n",
    "            top_pred_var , run_time]\n",
    "\n",
    "def train_svm(X, y, reg):\n",
    "    \n",
    "    #C = [.01, .1]\n",
    "    start_time = time.time()\n",
    "    score_train = []\n",
    "    score_test = []\n",
    "    weighted_coefs=[]\n",
    "    print(f'SVCM {reg} Start: {datetime.now()}')\n",
    "    for seed in range(Number_trials):\n",
    "        training_accuracy = []  \n",
    "        test_accuracy = []\n",
    "        X_train, X_test, y_train, y_test = (train_test_split(X, y, test_size=\n",
    "                                                             t_size, \n",
    "                                                             random_state=seed\n",
    "                                                             ))\n",
    "        for alpha_run in C:\n",
    "            if reg == 'l1':\n",
    "                svc = (LinearSVC(C=alpha_run, penalty=reg,loss='squared_hinge',\n",
    "                                max_iter=10000000, dual=False).fit(X_train, y_train))\n",
    "            if reg == 'l2':\n",
    "                svc = (LinearSVC(C=alpha_run, penalty=reg, max_iter=10000000)\n",
    "                                .fit(X_train, y_train))\n",
    "            training_accuracy.append(svc.score(X_train, y_train))\n",
    "            test_accuracy.append(svc.score(X_test, y_test))\n",
    "           # if alpha_run == 0.01:\n",
    "            coefs = svc.coef_\n",
    "            weighted_coefs.append(coefs)\n",
    "                \n",
    "        score_train.append(training_accuracy)\n",
    "        score_test.append(test_accuracy)\n",
    " \n",
    "\n",
    "    mean_coefs=np.mean(np.mean(weighted_coefs, axis=0), axis=1) \n",
    "    score = np.mean(score_test, axis=0)\n",
    "    top_pred_var = ([f'{svc.classes_[i]}: {X.columns[np.argmax(weights)]}' \n",
    "                    for i, weights in enumerate(np.abs(np.mean(weighted_coefs, axis=0)))])\n",
    "\n",
    "    top_predictor=X.columns[np.argmax(np.abs(mean_coefs))]\n",
    "    abs_mean_coefs = np.abs(mean_coefs)\n",
    "    coefs_count = len(abs_mean_coefs)\n",
    "    fig, ax = plt.subplots(figsize=(2,5))\n",
    "    ax.barh(np.arange(coefs_count), sorted(abs_mean_coefs))\n",
    "        \n",
    "    ax.set_yticks(np.arange(coefs_count))\n",
    "    ax.set_yticklabels(X.columns[np.argsort(abs_mean_coefs)])\n",
    "    \n",
    "    run_time = (time.time() - start_time)\n",
    "    return ['Linear SVM ({0})'.format(reg), np.amax(score), \\\n",
    "            'C = {0}'.format(C[np.argmax(score)]), top_predictor, \n",
    "             top_pred_var, run_time]\n"
   ]
  },
  {
   "cell_type": "code",
   "execution_count": 13,
   "id": "3804528d",
   "metadata": {},
   "outputs": [],
   "source": [
    "def print_output(X, y):\n",
    "\n",
    "    knn = train_knn(X, y)\n",
    "    print(knn)\n",
    "    print(\"%s seconds\" % knn[4])\n",
    "\n",
    "    l2_log = train_logistic(X, y, reg='l2')\n",
    "    print(l2_log)\n",
    "    print(\"%s seconds\" % l2_log[4])\n",
    "\n",
    "    l1_log = train_logistic(X, y, reg='l1')\n",
    "    print(l1_log)\n",
    "    print(\"%s seconds\" % l1_log[4])\n",
    "\n",
    "    l2_svm = train_svm(X, y, reg='l2')\n",
    "    print(l2_svm)\n",
    "    print(\"%s seconds\" % l2_svm[4])\n",
    "\n",
    "\n",
    "    l1_svm = train_svm(X, y, reg='l1')\n",
    "    print(l1_svm)\n",
    "    print(\"%s seconds\" % l1_svm[4])\n",
    "\n",
    "    cols = ['Machine Learning Method', 'Test Accuracy', 'Best Parameter', \n",
    "            'Top Mean Predictor Variable', 'Mean Predictor Per Class', 'Run Time']\n",
    "    df2 = pd.DataFrame(columns=cols)\n",
    "\n",
    "    df2.loc[0] = knn\n",
    "    df2.loc[1] = l2_log\n",
    "    df2.loc[2] = l1_log\n",
    "    df2.loc[3] = l2_svm\n",
    "    df2.loc[4] = l1_svm\n",
    "\n",
    "    return df2\n"
   ]
  },
  {
   "cell_type": "markdown",
   "id": "896fefc2",
   "metadata": {},
   "source": [
    "### Baseline Run\n",
    "\n",
    "Here we have used MinMaxScaler to normalize the data since there are no heavy outliers.<br>\n",
    "KNN is the top predictor based on the table below using all 4 features."
   ]
  },
  {
   "cell_type": "code",
   "execution_count": 14,
   "id": "a32f68a3",
   "metadata": {},
   "outputs": [
    {
     "name": "stdout",
     "output_type": "stream",
     "text": [
      "KNN Start: 2022-11-02 22:14:33.034577\n",
      "['kNN', 0.957777777777778, 'N_Neighbor = 4', 'NA', 'NA', 3.4977869987487793]\n",
      "NA seconds\n",
      "Logistics l2 Start: 2022-11-02 22:14:36.532364\n",
      "['Logistic (l2)', 0.8088888888888892, 'C = 1000', 'width', ['1: width', '2: height', '3: mass', '4: height'], 2.4271163940429688]\n",
      "['1: width', '2: height', '3: mass', '4: height'] seconds\n",
      "Logistics l1 Start: 2022-11-02 22:14:38.960481\n",
      "['Logistic (l1)', 0.8111111111111114, 'C = 1000', 'width', ['1: width', '2: height', '3: mass', '4: height'], 4.909104585647583]\n",
      "['1: width', '2: height', '3: mass', '4: height'] seconds\n",
      "SVCM l2 Start: 2022-11-02 22:14:43.869586\n",
      "['Linear SVM (l2)', 0.7066666666666669, 'C = 1000', 'width', ['1: width', '2: height', '3: mass', '4: height'], 21.641880750656128]\n",
      "['1: width', '2: height', '3: mass', '4: height'] seconds\n",
      "SVCM l1 Start: 2022-11-02 22:15:05.511466\n",
      "['Linear SVM (l1)', 0.7111111111111114, 'C = 100', 'width', ['1: width', '2: height', '3: mass', '4: width'], 1.4143180847167969]\n",
      "['1: width', '2: height', '3: mass', '4: width'] seconds\n"
     ]
    },
    {
     "data": {
      "image/png": "[encoded data removed]",
      "text/plain": [
       "<Figure size 144x360 with 1 Axes>"
      ]
     },
     "metadata": {
      "needs_background": "light"
     },
     "output_type": "display_data"
    },
    {
     "data": {
      "image/png": "[encoded data removed]",
      "text/plain": [
       "<Figure size 144x360 with 1 Axes>"
      ]
     },
     "metadata": {
      "needs_background": "light"
     },
     "output_type": "display_data"
    },
    {
     "data": {
      "image/png": "[encoded data removed]",
      "text/plain": [
       "<Figure size 144x360 with 1 Axes>"
      ]
     },
     "metadata": {
      "needs_background": "light"
     },
     "output_type": "display_data"
    },
    {
     "data": {
      "image/png": "[encoded data removed]",
      "text/plain": [
       "<Figure size 144x360 with 1 Axes>"
      ]
     },
     "metadata": {
      "needs_background": "light"
     },
     "output_type": "display_data"
    }
   ],
   "source": [
    "from sklearn.preprocessing import MinMaxScaler\n",
    "sscaler = MinMaxScaler()\n",
    "X = df_fruits[['mass', 'width', 'height', 'color_score']]\n",
    "XX = sscaler.fit_transform(X.astype(float))\n",
    "X = pd.DataFrame(data = XX,columns = ['mass', 'width', 'height', 'color_score'])\n",
    "y = df_fruits['fruit_label']\n",
    "\n",
    "df = print_output(X, y)    "
   ]
  },
  {
   "cell_type": "code",
   "execution_count": 15,
   "id": "692762f9",
   "metadata": {},
   "outputs": [
    {
     "data": {
      "text/html": [
       "<div>\n",
       "<style scoped>\n",
       "    .dataframe tbody tr th:only-of-type {\n",
       "        vertical-align: middle;\n",
       "    }\n",
       "\n",
       "    .dataframe tbody tr th {\n",
       "        vertical-align: top;\n",
       "    }\n",
       "\n",
       "    .dataframe thead th {\n",
       "        text-align: right;\n",
       "    }\n",
       "</style>\n",
       "<table border=\"1\" class=\"dataframe\">\n",
       "  <thead>\n",
       "    <tr style=\"text-align: right;\">\n",
       "      <th></th>\n",
       "      <th>Machine Learning Method</th>\n",
       "      <th>Test Accuracy</th>\n",
       "      <th>Best Parameter</th>\n",
       "      <th>Top Mean Predictor Variable</th>\n",
       "      <th>Mean Predictor Per Class</th>\n",
       "      <th>Run Time</th>\n",
       "    </tr>\n",
       "  </thead>\n",
       "  <tbody>\n",
       "    <tr>\n",
       "      <th>0</th>\n",
       "      <td>kNN</td>\n",
       "      <td>0.957778</td>\n",
       "      <td>N_Neighbor = 4</td>\n",
       "      <td>NA</td>\n",
       "      <td>NA</td>\n",
       "      <td>3.497787</td>\n",
       "    </tr>\n",
       "    <tr>\n",
       "      <th>1</th>\n",
       "      <td>Logistic (l2)</td>\n",
       "      <td>0.808889</td>\n",
       "      <td>C = 1000</td>\n",
       "      <td>width</td>\n",
       "      <td>[1: width, 2: height, 3: mass, 4: height]</td>\n",
       "      <td>2.427116</td>\n",
       "    </tr>\n",
       "    <tr>\n",
       "      <th>2</th>\n",
       "      <td>Logistic (l1)</td>\n",
       "      <td>0.811111</td>\n",
       "      <td>C = 1000</td>\n",
       "      <td>width</td>\n",
       "      <td>[1: width, 2: height, 3: mass, 4: height]</td>\n",
       "      <td>4.909105</td>\n",
       "    </tr>\n",
       "    <tr>\n",
       "      <th>3</th>\n",
       "      <td>Linear SVM (l2)</td>\n",
       "      <td>0.706667</td>\n",
       "      <td>C = 1000</td>\n",
       "      <td>width</td>\n",
       "      <td>[1: width, 2: height, 3: mass, 4: height]</td>\n",
       "      <td>21.641881</td>\n",
       "    </tr>\n",
       "    <tr>\n",
       "      <th>4</th>\n",
       "      <td>Linear SVM (l1)</td>\n",
       "      <td>0.711111</td>\n",
       "      <td>C = 100</td>\n",
       "      <td>width</td>\n",
       "      <td>[1: width, 2: height, 3: mass, 4: width]</td>\n",
       "      <td>1.414318</td>\n",
       "    </tr>\n",
       "  </tbody>\n",
       "</table>\n",
       "</div>"
      ],
      "text/plain": [
       "  Machine Learning Method  Test Accuracy  Best Parameter  \\\n",
       "0                     kNN       0.957778  N_Neighbor = 4   \n",
       "1           Logistic (l2)       0.808889        C = 1000   \n",
       "2           Logistic (l1)       0.811111        C = 1000   \n",
       "3         Linear SVM (l2)       0.706667        C = 1000   \n",
       "4         Linear SVM (l1)       0.711111         C = 100   \n",
       "\n",
       "  Top Mean Predictor Variable                   Mean Predictor Per Class  \\\n",
       "0                          NA                                         NA   \n",
       "1                       width  [1: width, 2: height, 3: mass, 4: height]   \n",
       "2                       width  [1: width, 2: height, 3: mass, 4: height]   \n",
       "3                       width  [1: width, 2: height, 3: mass, 4: height]   \n",
       "4                       width   [1: width, 2: height, 3: mass, 4: width]   \n",
       "\n",
       "    Run Time  \n",
       "0   3.497787  \n",
       "1   2.427116  \n",
       "2   4.909105  \n",
       "3  21.641881  \n",
       "4   1.414318  "
      ]
     },
     "metadata": {},
     "output_type": "display_data"
    }
   ],
   "source": [
    "display(df)"
   ]
  },
  {
   "cell_type": "markdown",
   "id": "31980a9c",
   "metadata": {},
   "source": [
    "### Added Derived Feature \n",
    "\n",
    "We have tried using both the width, height, mass and width, height, color_score and between the two the latter performed better in all tests. To just not make the notebook longer we just retained the better performing feature. We also combined them it did not increase the accuracy further. <br><br>\n",
    "\n",
    "Here KNN is still the top predictor but reduced the accuracy by .002 however the rest of the linear models have increased with SVM having 4%+ increase."
   ]
  },
  {
   "cell_type": "code",
   "execution_count": 16,
   "id": "0551fb25",
   "metadata": {},
   "outputs": [
    {
     "name": "stdout",
     "output_type": "stream",
     "text": [
      "KNN Start: 2022-11-02 22:15:07.083821\n",
      "['kNN', 0.9555555555555557, 'N_Neighbor = 4', 'NA', 'NA', 3.4437742233276367]\n",
      "NA seconds\n",
      "Logistics l2 Start: 2022-11-02 22:15:10.527595\n",
      "['Logistic (l2)', 0.8133333333333338, 'C = 5000', 'width', ['1: width', '2: height', '3: mass', '4: height'], 2.947662830352783]\n",
      "['1: width', '2: height', '3: mass', '4: height'] seconds\n",
      "Logistics l1 Start: 2022-11-02 22:15:13.475258\n",
      "['Logistic (l1)', 0.8133333333333338, 'C = 100', 'width', ['1: width', '2: height', '3: mwh', '4: height'], 7.70275616645813]\n",
      "['1: width', '2: height', '3: mwh', '4: height'] seconds\n",
      "SVCM l2 Start: 2022-11-02 22:15:21.179014\n",
      "['Linear SVM (l2)', 0.7466666666666668, 'C = 5000', 'mass', ['1: mwh', '2: height', '3: mwh', '4: height'], 21.748896598815918]\n",
      "['1: mwh', '2: height', '3: mwh', '4: height'] seconds\n",
      "SVCM l1 Start: 2022-11-02 22:15:42.927911\n",
      "['Linear SVM (l1)', 0.7533333333333335, 'C = 100', 'mass', ['1: mwh', '2: height', '3: mwh', '4: width'], 8.815180778503418]\n",
      "['1: mwh', '2: height', '3: mwh', '4: width'] seconds\n"
     ]
    },
    {
     "data": {
      "image/png": "[encoded data removed]",
      "text/plain": [
       "<Figure size 144x360 with 1 Axes>"
      ]
     },
     "metadata": {
      "needs_background": "light"
     },
     "output_type": "display_data"
    },
    {
     "data": {
      "image/png": "[encoded data removed]",
      "text/plain": [
       "<Figure size 144x360 with 1 Axes>"
      ]
     },
     "metadata": {
      "needs_background": "light"
     },
     "output_type": "display_data"
    },
    {
     "data": {
      "image/png": "[encoded data removed]",
      "text/plain": [
       "<Figure size 144x360 with 1 Axes>"
      ]
     },
     "metadata": {
      "needs_background": "light"
     },
     "output_type": "display_data"
    },
    {
     "data": {
      "image/png": "[encoded data removed]",
      "text/plain": [
       "<Figure size 144x360 with 1 Axes>"
      ]
     },
     "metadata": {
      "needs_background": "light"
     },
     "output_type": "display_data"
    }
   ],
   "source": [
    "from sklearn.preprocessing import MinMaxScaler\n",
    "sscaler = MinMaxScaler()\n",
    "df_fruits_ext = df_fruits.copy()\n",
    "#df_fruits_ext['mwh'] = df_fruits.width * df_fruits.height * df_fruits.mass\n",
    "df_fruits_ext['mwh'] = df_fruits.width * df_fruits.height * df_fruits.color_score\n",
    "X = df_fruits_ext[['mass', 'width', 'height', 'color_score', 'mwh']]\n",
    "XX = sscaler.fit_transform(X.astype(float))\n",
    "X = pd.DataFrame(data = XX,columns = ['mass', 'width', 'height', 'color_score', 'mwh'])\n",
    "y = df_fruits['fruit_label']\n",
    "\n",
    "df = print_output(X, y)  "
   ]
  },
  {
   "cell_type": "code",
   "execution_count": 17,
   "id": "90689750",
   "metadata": {},
   "outputs": [
    {
     "data": {
      "text/html": [
       "<div>\n",
       "<style scoped>\n",
       "    .dataframe tbody tr th:only-of-type {\n",
       "        vertical-align: middle;\n",
       "    }\n",
       "\n",
       "    .dataframe tbody tr th {\n",
       "        vertical-align: top;\n",
       "    }\n",
       "\n",
       "    .dataframe thead th {\n",
       "        text-align: right;\n",
       "    }\n",
       "</style>\n",
       "<table border=\"1\" class=\"dataframe\">\n",
       "  <thead>\n",
       "    <tr style=\"text-align: right;\">\n",
       "      <th></th>\n",
       "      <th>Machine Learning Method</th>\n",
       "      <th>Test Accuracy</th>\n",
       "      <th>Best Parameter</th>\n",
       "      <th>Top Mean Predictor Variable</th>\n",
       "      <th>Mean Predictor Per Class</th>\n",
       "      <th>Run Time</th>\n",
       "    </tr>\n",
       "  </thead>\n",
       "  <tbody>\n",
       "    <tr>\n",
       "      <th>0</th>\n",
       "      <td>kNN</td>\n",
       "      <td>0.955556</td>\n",
       "      <td>N_Neighbor = 4</td>\n",
       "      <td>NA</td>\n",
       "      <td>NA</td>\n",
       "      <td>3.443774</td>\n",
       "    </tr>\n",
       "    <tr>\n",
       "      <th>1</th>\n",
       "      <td>Logistic (l2)</td>\n",
       "      <td>0.813333</td>\n",
       "      <td>C = 5000</td>\n",
       "      <td>width</td>\n",
       "      <td>[1: width, 2: height, 3: mass, 4: height]</td>\n",
       "      <td>2.947663</td>\n",
       "    </tr>\n",
       "    <tr>\n",
       "      <th>2</th>\n",
       "      <td>Logistic (l1)</td>\n",
       "      <td>0.813333</td>\n",
       "      <td>C = 100</td>\n",
       "      <td>width</td>\n",
       "      <td>[1: width, 2: height, 3: mwh, 4: height]</td>\n",
       "      <td>7.702756</td>\n",
       "    </tr>\n",
       "    <tr>\n",
       "      <th>3</th>\n",
       "      <td>Linear SVM (l2)</td>\n",
       "      <td>0.746667</td>\n",
       "      <td>C = 5000</td>\n",
       "      <td>mass</td>\n",
       "      <td>[1: mwh, 2: height, 3: mwh, 4: height]</td>\n",
       "      <td>21.748897</td>\n",
       "    </tr>\n",
       "    <tr>\n",
       "      <th>4</th>\n",
       "      <td>Linear SVM (l1)</td>\n",
       "      <td>0.753333</td>\n",
       "      <td>C = 100</td>\n",
       "      <td>mass</td>\n",
       "      <td>[1: mwh, 2: height, 3: mwh, 4: width]</td>\n",
       "      <td>8.815181</td>\n",
       "    </tr>\n",
       "  </tbody>\n",
       "</table>\n",
       "</div>"
      ],
      "text/plain": [
       "  Machine Learning Method  Test Accuracy  Best Parameter  \\\n",
       "0                     kNN       0.955556  N_Neighbor = 4   \n",
       "1           Logistic (l2)       0.813333        C = 5000   \n",
       "2           Logistic (l1)       0.813333         C = 100   \n",
       "3         Linear SVM (l2)       0.746667        C = 5000   \n",
       "4         Linear SVM (l1)       0.753333         C = 100   \n",
       "\n",
       "  Top Mean Predictor Variable                   Mean Predictor Per Class  \\\n",
       "0                          NA                                         NA   \n",
       "1                       width  [1: width, 2: height, 3: mass, 4: height]   \n",
       "2                       width   [1: width, 2: height, 3: mwh, 4: height]   \n",
       "3                        mass     [1: mwh, 2: height, 3: mwh, 4: height]   \n",
       "4                        mass      [1: mwh, 2: height, 3: mwh, 4: width]   \n",
       "\n",
       "    Run Time  \n",
       "0   3.443774  \n",
       "1   2.947663  \n",
       "2   7.702756  \n",
       "3  21.748897  \n",
       "4   8.815181  "
      ]
     },
     "metadata": {},
     "output_type": "display_data"
    }
   ],
   "source": [
    "display(df)"
   ]
  },
  {
   "cell_type": "markdown",
   "id": "9eb9d058",
   "metadata": {},
   "source": [
    "### Adjusted scale for color_score\n",
    "\n",
    "We adjusted the scale for color_score and squared it and it pushed KNN accuracy to 98.88% which is so far the best performing model. LR is kept as same percentage and SVM losing a few points."
   ]
  },
  {
   "cell_type": "code",
   "execution_count": 18,
   "id": "68238766",
   "metadata": {},
   "outputs": [
    {
     "name": "stdout",
     "output_type": "stream",
     "text": [
      "KNN Start: 2022-11-02 22:15:51.913129\n",
      "['kNN', 0.9688888888888889, 'N_Neighbor = 1', 'NA', 'NA', 3.5097897052764893]\n",
      "NA seconds\n",
      "Logistics l2 Start: 2022-11-02 22:15:55.422919\n",
      "['Logistic (l2)', 0.8111111111111114, 'C = 5000', 'width', ['1: height', '2: height', '3: mass', '4: height'], 3.4503469467163086]\n",
      "['1: height', '2: height', '3: mass', '4: height'] seconds\n",
      "Logistics l1 Start: 2022-11-02 22:15:58.873266\n",
      "['Logistic (l1)', 0.8111111111111114, 'C = 100', 'height', ['1: height', '2: height', '3: mass', '4: height'], 8.453920602798462]\n",
      "['1: height', '2: height', '3: mass', '4: height'] seconds\n",
      "SVCM l2 Start: 2022-11-02 22:16:07.328186\n",
      "['Linear SVM (l2)', 0.7422222222222223, 'C = 1000', 'mass', ['1: mwh', '2: height', '3: mass', '4: height'], 28.300748586654663]\n",
      "['1: mwh', '2: height', '3: mass', '4: height'] seconds\n",
      "SVCM l1 Start: 2022-11-02 22:16:35.628935\n",
      "['Linear SVM (l1)', 0.7400000000000001, 'C = 100', 'mass', ['1: mwh', '2: height', '3: mass', '4: width'], 4.738434076309204]\n",
      "['1: mwh', '2: height', '3: mass', '4: width'] seconds\n"
     ]
    },
    {
     "data": {
      "image/png": "[encoded data removed]",
      "text/plain": [
       "<Figure size 144x360 with 1 Axes>"
      ]
     },
     "metadata": {
      "needs_background": "light"
     },
     "output_type": "display_data"
    },
    {
     "data": {
      "image/png": "[encoded data removed]",
      "text/plain": [
       "<Figure size 144x360 with 1 Axes>"
      ]
     },
     "metadata": {
      "needs_background": "light"
     },
     "output_type": "display_data"
    },
    {
     "data": {
      "image/png": "[encoded data removed]",
      "text/plain": [
       "<Figure size 144x360 with 1 Axes>"
      ]
     },
     "metadata": {
      "needs_background": "light"
     },
     "output_type": "display_data"
    },
    {
     "data": {
      "image/png": "[encoded data removed]",
      "text/plain": [
       "<Figure size 144x360 with 1 Axes>"
      ]
     },
     "metadata": {
      "needs_background": "light"
     },
     "output_type": "display_data"
    }
   ],
   "source": [
    "from sklearn.preprocessing import MinMaxScaler\n",
    "sscaler = MinMaxScaler()\n",
    "df_fruits_ext = df_fruits.copy()\n",
    "#df_fruits_ext['mwh'] = df_fruits.width * df_fruits.height * (df_fruits.mass**2)\n",
    "df_fruits_ext['mwh'] = df_fruits.width * df_fruits.height * (df_fruits.color_score**2)\n",
    "X = df_fruits_ext[['mass', 'width', 'height', 'color_score', 'mwh']]\n",
    "XX = sscaler.fit_transform(X.astype(float))\n",
    "X = pd.DataFrame(data = XX,columns = ['mass', 'width', 'height', 'color_score', 'mwh'])\n",
    "y = df_fruits['fruit_label']\n",
    "\n",
    "df = print_output(X, y)  "
   ]
  },
  {
   "cell_type": "code",
   "execution_count": 19,
   "id": "805d1cc6",
   "metadata": {},
   "outputs": [
    {
     "data": {
      "text/html": [
       "<div>\n",
       "<style scoped>\n",
       "    .dataframe tbody tr th:only-of-type {\n",
       "        vertical-align: middle;\n",
       "    }\n",
       "\n",
       "    .dataframe tbody tr th {\n",
       "        vertical-align: top;\n",
       "    }\n",
       "\n",
       "    .dataframe thead th {\n",
       "        text-align: right;\n",
       "    }\n",
       "</style>\n",
       "<table border=\"1\" class=\"dataframe\">\n",
       "  <thead>\n",
       "    <tr style=\"text-align: right;\">\n",
       "      <th></th>\n",
       "      <th>Machine Learning Method</th>\n",
       "      <th>Test Accuracy</th>\n",
       "      <th>Best Parameter</th>\n",
       "      <th>Top Mean Predictor Variable</th>\n",
       "      <th>Mean Predictor Per Class</th>\n",
       "      <th>Run Time</th>\n",
       "    </tr>\n",
       "  </thead>\n",
       "  <tbody>\n",
       "    <tr>\n",
       "      <th>0</th>\n",
       "      <td>kNN</td>\n",
       "      <td>0.968889</td>\n",
       "      <td>N_Neighbor = 1</td>\n",
       "      <td>NA</td>\n",
       "      <td>NA</td>\n",
       "      <td>3.509790</td>\n",
       "    </tr>\n",
       "    <tr>\n",
       "      <th>1</th>\n",
       "      <td>Logistic (l2)</td>\n",
       "      <td>0.811111</td>\n",
       "      <td>C = 5000</td>\n",
       "      <td>width</td>\n",
       "      <td>[1: height, 2: height, 3: mass, 4: height]</td>\n",
       "      <td>3.450347</td>\n",
       "    </tr>\n",
       "    <tr>\n",
       "      <th>2</th>\n",
       "      <td>Logistic (l1)</td>\n",
       "      <td>0.811111</td>\n",
       "      <td>C = 100</td>\n",
       "      <td>height</td>\n",
       "      <td>[1: height, 2: height, 3: mass, 4: height]</td>\n",
       "      <td>8.453921</td>\n",
       "    </tr>\n",
       "    <tr>\n",
       "      <th>3</th>\n",
       "      <td>Linear SVM (l2)</td>\n",
       "      <td>0.742222</td>\n",
       "      <td>C = 1000</td>\n",
       "      <td>mass</td>\n",
       "      <td>[1: mwh, 2: height, 3: mass, 4: height]</td>\n",
       "      <td>28.300749</td>\n",
       "    </tr>\n",
       "    <tr>\n",
       "      <th>4</th>\n",
       "      <td>Linear SVM (l1)</td>\n",
       "      <td>0.740000</td>\n",
       "      <td>C = 100</td>\n",
       "      <td>mass</td>\n",
       "      <td>[1: mwh, 2: height, 3: mass, 4: width]</td>\n",
       "      <td>4.738434</td>\n",
       "    </tr>\n",
       "  </tbody>\n",
       "</table>\n",
       "</div>"
      ],
      "text/plain": [
       "  Machine Learning Method  Test Accuracy  Best Parameter  \\\n",
       "0                     kNN       0.968889  N_Neighbor = 1   \n",
       "1           Logistic (l2)       0.811111        C = 5000   \n",
       "2           Logistic (l1)       0.811111         C = 100   \n",
       "3         Linear SVM (l2)       0.742222        C = 1000   \n",
       "4         Linear SVM (l1)       0.740000         C = 100   \n",
       "\n",
       "  Top Mean Predictor Variable                    Mean Predictor Per Class  \\\n",
       "0                          NA                                          NA   \n",
       "1                       width  [1: height, 2: height, 3: mass, 4: height]   \n",
       "2                      height  [1: height, 2: height, 3: mass, 4: height]   \n",
       "3                        mass     [1: mwh, 2: height, 3: mass, 4: height]   \n",
       "4                        mass      [1: mwh, 2: height, 3: mass, 4: width]   \n",
       "\n",
       "    Run Time  \n",
       "0   3.509790  \n",
       "1   3.450347  \n",
       "2   8.453921  \n",
       "3  28.300749  \n",
       "4   4.738434  "
      ]
     },
     "metadata": {},
     "output_type": "display_data"
    }
   ],
   "source": [
    "display(df)"
   ]
  },
  {
   "cell_type": "markdown",
   "id": "2c78ecdb",
   "metadata": {},
   "source": [
    "### Combining with mass\n",
    "\n",
    "Adding mass did not help improving the overall accuracy but reduced it might be because we just combined all 4 columns and returned to its original predictions."
   ]
  },
  {
   "cell_type": "code",
   "execution_count": 20,
   "id": "4d60506a",
   "metadata": {},
   "outputs": [
    {
     "name": "stdout",
     "output_type": "stream",
     "text": [
      "KNN Start: 2022-11-02 22:16:40.617393\n",
      "['kNN', 0.957777777777778, 'N_Neighbor = 4', 'NA', 'NA', 3.5779500007629395]\n",
      "NA seconds\n",
      "Logistics l2 Start: 2022-11-02 22:16:44.195343\n",
      "['Logistic (l2)', 0.806666666666667, 'C = 300', 'width', ['1: width', '2: height', '3: mwh', '4: height'], 2.823633909225464]\n",
      "['1: width', '2: height', '3: mwh', '4: height'] seconds\n",
      "Logistics l1 Start: 2022-11-02 22:16:47.018977\n",
      "['Logistic (l1)', 0.806666666666667, 'C = 100', 'width', ['1: width', '2: height', '3: mwh', '4: height'], 6.425446510314941]\n",
      "['1: width', '2: height', '3: mwh', '4: height'] seconds\n",
      "SVCM l2 Start: 2022-11-02 22:16:53.444424\n",
      "['Linear SVM (l2)', 0.7288888888888891, 'C = 300', 'width', ['1: mwh', '2: height', '3: mass', '4: height'], 23.462282180786133]\n",
      "['1: mwh', '2: height', '3: mass', '4: height'] seconds\n",
      "SVCM l1 Start: 2022-11-02 22:17:16.907707\n",
      "['Linear SVM (l1)', 0.7177777777777781, 'C = 20', 'mass', ['1: mwh', '2: height', '3: mass', '4: width'], 2.233503580093384]\n",
      "['1: mwh', '2: height', '3: mass', '4: width'] seconds\n"
     ]
    },
    {
     "data": {
      "image/png": "[encoded data removed]",
      "text/plain": [
       "<Figure size 144x360 with 1 Axes>"
      ]
     },
     "metadata": {
      "needs_background": "light"
     },
     "output_type": "display_data"
    },
    {
     "data": {
      "image/png": "[encoded data removed]",
      "text/plain": [
       "<Figure size 144x360 with 1 Axes>"
      ]
     },
     "metadata": {
      "needs_background": "light"
     },
     "output_type": "display_data"
    },
    {
     "data": {
      "image/png": "[encoded data removed]",
      "text/plain": [
       "<Figure size 144x360 with 1 Axes>"
      ]
     },
     "metadata": {
      "needs_background": "light"
     },
     "output_type": "display_data"
    },
    {
     "data": {
      "image/png": "[encoded data removed]",
      "text/plain": [
       "<Figure size 144x360 with 1 Axes>"
      ]
     },
     "metadata": {
      "needs_background": "light"
     },
     "output_type": "display_data"
    }
   ],
   "source": [
    "from sklearn.preprocessing import MinMaxScaler\n",
    "sscaler = MinMaxScaler()\n",
    "df_fruits_ext = df_fruits.copy()\n",
    "#df_fruits_ext['mwh'] = df_fruits.width * df_fruits.height * (df_fruits.mass**2) * df_fruits.color_score\n",
    "df_fruits_ext['mwh'] = df_fruits.width * df_fruits.height * (df_fruits.color_score**2) * df_fruits.mass\n",
    "X = df_fruits_ext[['mass', 'width', 'height', 'color_score', 'mwh']]\n",
    "XX = sscaler.fit_transform(X.astype(float))\n",
    "X = pd.DataFrame(data = XX,columns = ['mass', 'width', 'height', 'color_score', 'mwh'])\n",
    "y = df_fruits['fruit_label']\n",
    "\n",
    "df = print_output(X, y)"
   ]
  },
  {
   "cell_type": "code",
   "execution_count": 21,
   "id": "9d8f3ec1",
   "metadata": {},
   "outputs": [
    {
     "data": {
      "text/html": [
       "<div>\n",
       "<style scoped>\n",
       "    .dataframe tbody tr th:only-of-type {\n",
       "        vertical-align: middle;\n",
       "    }\n",
       "\n",
       "    .dataframe tbody tr th {\n",
       "        vertical-align: top;\n",
       "    }\n",
       "\n",
       "    .dataframe thead th {\n",
       "        text-align: right;\n",
       "    }\n",
       "</style>\n",
       "<table border=\"1\" class=\"dataframe\">\n",
       "  <thead>\n",
       "    <tr style=\"text-align: right;\">\n",
       "      <th></th>\n",
       "      <th>Machine Learning Method</th>\n",
       "      <th>Test Accuracy</th>\n",
       "      <th>Best Parameter</th>\n",
       "      <th>Top Mean Predictor Variable</th>\n",
       "      <th>Mean Predictor Per Class</th>\n",
       "      <th>Run Time</th>\n",
       "    </tr>\n",
       "  </thead>\n",
       "  <tbody>\n",
       "    <tr>\n",
       "      <th>0</th>\n",
       "      <td>kNN</td>\n",
       "      <td>0.957778</td>\n",
       "      <td>N_Neighbor = 4</td>\n",
       "      <td>NA</td>\n",
       "      <td>NA</td>\n",
       "      <td>3.577950</td>\n",
       "    </tr>\n",
       "    <tr>\n",
       "      <th>1</th>\n",
       "      <td>Logistic (l2)</td>\n",
       "      <td>0.806667</td>\n",
       "      <td>C = 300</td>\n",
       "      <td>width</td>\n",
       "      <td>[1: width, 2: height, 3: mwh, 4: height]</td>\n",
       "      <td>2.823634</td>\n",
       "    </tr>\n",
       "    <tr>\n",
       "      <th>2</th>\n",
       "      <td>Logistic (l1)</td>\n",
       "      <td>0.806667</td>\n",
       "      <td>C = 100</td>\n",
       "      <td>width</td>\n",
       "      <td>[1: width, 2: height, 3: mwh, 4: height]</td>\n",
       "      <td>6.425447</td>\n",
       "    </tr>\n",
       "    <tr>\n",
       "      <th>3</th>\n",
       "      <td>Linear SVM (l2)</td>\n",
       "      <td>0.728889</td>\n",
       "      <td>C = 300</td>\n",
       "      <td>width</td>\n",
       "      <td>[1: mwh, 2: height, 3: mass, 4: height]</td>\n",
       "      <td>23.462282</td>\n",
       "    </tr>\n",
       "    <tr>\n",
       "      <th>4</th>\n",
       "      <td>Linear SVM (l1)</td>\n",
       "      <td>0.717778</td>\n",
       "      <td>C = 20</td>\n",
       "      <td>mass</td>\n",
       "      <td>[1: mwh, 2: height, 3: mass, 4: width]</td>\n",
       "      <td>2.233504</td>\n",
       "    </tr>\n",
       "  </tbody>\n",
       "</table>\n",
       "</div>"
      ],
      "text/plain": [
       "  Machine Learning Method  Test Accuracy  Best Parameter  \\\n",
       "0                     kNN       0.957778  N_Neighbor = 4   \n",
       "1           Logistic (l2)       0.806667         C = 300   \n",
       "2           Logistic (l1)       0.806667         C = 100   \n",
       "3         Linear SVM (l2)       0.728889         C = 300   \n",
       "4         Linear SVM (l1)       0.717778          C = 20   \n",
       "\n",
       "  Top Mean Predictor Variable                  Mean Predictor Per Class  \\\n",
       "0                          NA                                        NA   \n",
       "1                       width  [1: width, 2: height, 3: mwh, 4: height]   \n",
       "2                       width  [1: width, 2: height, 3: mwh, 4: height]   \n",
       "3                       width   [1: mwh, 2: height, 3: mass, 4: height]   \n",
       "4                        mass    [1: mwh, 2: height, 3: mass, 4: width]   \n",
       "\n",
       "    Run Time  \n",
       "0   3.577950  \n",
       "1   2.823634  \n",
       "2   6.425447  \n",
       "3  23.462282  \n",
       "4   2.233504  "
      ]
     },
     "metadata": {},
     "output_type": "display_data"
    }
   ],
   "source": [
    "display(df)"
   ]
  },
  {
   "cell_type": "markdown",
   "id": "2cf36949",
   "metadata": {},
   "source": [
    "### Doubling the color_score value\n",
    "\n",
    "Doubling the color_score value did not help due to the fact that it will jsut be scaled down but we wanted to test if there would be any further difference."
   ]
  },
  {
   "cell_type": "code",
   "execution_count": 28,
   "id": "0a0c708c",
   "metadata": {},
   "outputs": [
    {
     "name": "stdout",
     "output_type": "stream",
     "text": [
      "KNN Start: 2022-11-02 22:27:51.616237\n",
      "['kNN', 0.9555555555555557, 'N_Neighbor = 4', 'NA', 'NA', 3.5507991313934326]\n",
      "NA seconds\n",
      "Logistics l2 Start: 2022-11-02 22:27:55.167036\n",
      "['Logistic (l2)', 0.8133333333333338, 'C = 5000', 'width', ['1: width', '2: height', '3: mass', '4: height'], 2.9986753463745117]\n",
      "['1: width', '2: height', '3: mass', '4: height'] seconds\n",
      "Logistics l1 Start: 2022-11-02 22:27:58.165712\n",
      "['Logistic (l1)', 0.8133333333333338, 'C = 100', 'width', ['1: width', '2: height', '3: mwh', '4: height'], 7.784752607345581]\n",
      "['1: width', '2: height', '3: mwh', '4: height'] seconds\n",
      "SVCM l2 Start: 2022-11-02 22:28:05.951465\n",
      "['Linear SVM (l2)', 0.7466666666666668, 'C = 5000', 'mass', ['1: mwh', '2: height', '3: mwh', '4: height'], 21.58487868309021]\n",
      "['1: mwh', '2: height', '3: mwh', '4: height'] seconds\n",
      "SVCM l1 Start: 2022-11-02 22:28:27.536343\n",
      "['Linear SVM (l1)', 0.7533333333333335, 'C = 100', 'mass', ['1: mwh', '2: height', '3: mwh', '4: width'], 8.701960563659668]\n",
      "['1: mwh', '2: height', '3: mwh', '4: width'] seconds\n"
     ]
    },
    {
     "data": {
      "image/png": "[encoded data removed]",
      "text/plain": [
       "<Figure size 144x360 with 1 Axes>"
      ]
     },
     "metadata": {
      "needs_background": "light"
     },
     "output_type": "display_data"
    },
    {
     "data": {
      "image/png": "[encoded data removed]",
      "text/plain": [
       "<Figure size 144x360 with 1 Axes>"
      ]
     },
     "metadata": {
      "needs_background": "light"
     },
     "output_type": "display_data"
    },
    {
     "data": {
      "image/png": "[encoded data removed]",
      "text/plain": [
       "<Figure size 144x360 with 1 Axes>"
      ]
     },
     "metadata": {
      "needs_background": "light"
     },
     "output_type": "display_data"
    },
    {
     "data": {
      "image/png": "[encoded data removed]",
      "text/plain": [
       "<Figure size 144x360 with 1 Axes>"
      ]
     },
     "metadata": {
      "needs_background": "light"
     },
     "output_type": "display_data"
    }
   ],
   "source": [
    "from sklearn.preprocessing import MinMaxScaler\n",
    "sscaler = MinMaxScaler()\n",
    "df_fruits_ext = df_fruits.copy()\n",
    "#df_fruits_ext['mwh'] = df_fruits.width * df_fruits.height * (df_fruits.mass*2)\n",
    "df_fruits_ext['mwh'] = df_fruits.width * df_fruits.height * (df_fruits.color_score*2)\n",
    "X = df_fruits_ext[['mass', 'width', 'height', 'color_score', 'mwh']]\n",
    "XX = sscaler.fit_transform(X.astype(float))\n",
    "X = pd.DataFrame(data = XX,columns = ['mass', 'width', 'height', 'color_score', 'mwh'])\n",
    "y = df_fruits['fruit_label']\n",
    "\n",
    "df = print_output(X, y)"
   ]
  },
  {
   "cell_type": "code",
   "execution_count": 27,
   "id": "ddb0f6a3",
   "metadata": {},
   "outputs": [
    {
     "data": {
      "text/html": [
       "<div>\n",
       "<style scoped>\n",
       "    .dataframe tbody tr th:only-of-type {\n",
       "        vertical-align: middle;\n",
       "    }\n",
       "\n",
       "    .dataframe tbody tr th {\n",
       "        vertical-align: top;\n",
       "    }\n",
       "\n",
       "    .dataframe thead th {\n",
       "        text-align: right;\n",
       "    }\n",
       "</style>\n",
       "<table border=\"1\" class=\"dataframe\">\n",
       "  <thead>\n",
       "    <tr style=\"text-align: right;\">\n",
       "      <th></th>\n",
       "      <th>Machine Learning Method</th>\n",
       "      <th>Test Accuracy</th>\n",
       "      <th>Best Parameter</th>\n",
       "      <th>Top Mean Predictor Variable</th>\n",
       "      <th>Mean Predictor Per Class</th>\n",
       "      <th>Run Time</th>\n",
       "    </tr>\n",
       "  </thead>\n",
       "  <tbody>\n",
       "    <tr>\n",
       "      <th>0</th>\n",
       "      <td>kNN</td>\n",
       "      <td>0.955556</td>\n",
       "      <td>N_Neighbor = 4</td>\n",
       "      <td>NA</td>\n",
       "      <td>NA</td>\n",
       "      <td>3.511790</td>\n",
       "    </tr>\n",
       "    <tr>\n",
       "      <th>1</th>\n",
       "      <td>Logistic (l2)</td>\n",
       "      <td>0.813333</td>\n",
       "      <td>C = 5000</td>\n",
       "      <td>width</td>\n",
       "      <td>[1: width, 2: height, 3: mass, 4: height]</td>\n",
       "      <td>2.988673</td>\n",
       "    </tr>\n",
       "    <tr>\n",
       "      <th>2</th>\n",
       "      <td>Logistic (l1)</td>\n",
       "      <td>0.813333</td>\n",
       "      <td>C = 100</td>\n",
       "      <td>width</td>\n",
       "      <td>[1: width, 2: height, 3: mwh, 4: height]</td>\n",
       "      <td>7.850211</td>\n",
       "    </tr>\n",
       "    <tr>\n",
       "      <th>3</th>\n",
       "      <td>Linear SVM (l2)</td>\n",
       "      <td>0.746667</td>\n",
       "      <td>C = 5000</td>\n",
       "      <td>mass</td>\n",
       "      <td>[1: mwh, 2: height, 3: mwh, 4: height]</td>\n",
       "      <td>21.111755</td>\n",
       "    </tr>\n",
       "    <tr>\n",
       "      <th>4</th>\n",
       "      <td>Linear SVM (l1)</td>\n",
       "      <td>0.753333</td>\n",
       "      <td>C = 100</td>\n",
       "      <td>mass</td>\n",
       "      <td>[1: mwh, 2: height, 3: mwh, 4: width]</td>\n",
       "      <td>8.737967</td>\n",
       "    </tr>\n",
       "  </tbody>\n",
       "</table>\n",
       "</div>"
      ],
      "text/plain": [
       "  Machine Learning Method  Test Accuracy  Best Parameter  \\\n",
       "0                     kNN       0.955556  N_Neighbor = 4   \n",
       "1           Logistic (l2)       0.813333        C = 5000   \n",
       "2           Logistic (l1)       0.813333         C = 100   \n",
       "3         Linear SVM (l2)       0.746667        C = 5000   \n",
       "4         Linear SVM (l1)       0.753333         C = 100   \n",
       "\n",
       "  Top Mean Predictor Variable                   Mean Predictor Per Class  \\\n",
       "0                          NA                                         NA   \n",
       "1                       width  [1: width, 2: height, 3: mass, 4: height]   \n",
       "2                       width   [1: width, 2: height, 3: mwh, 4: height]   \n",
       "3                        mass     [1: mwh, 2: height, 3: mwh, 4: height]   \n",
       "4                        mass      [1: mwh, 2: height, 3: mwh, 4: width]   \n",
       "\n",
       "    Run Time  \n",
       "0   3.511790  \n",
       "1   2.988673  \n",
       "2   7.850211  \n",
       "3  21.111755  \n",
       "4   8.737967  "
      ]
     },
     "metadata": {},
     "output_type": "display_data"
    }
   ],
   "source": [
    "display(df)"
   ]
  },
  {
   "cell_type": "markdown",
   "id": "7136ea1e",
   "metadata": {},
   "source": [
    "### Using mass and squaring it\n",
    "\n",
    "We just wanted to show if we used mass instead of color_score it still increases it across the models however it does not push KNN to 96.88% with K=1 here we are at 96% with K=4"
   ]
  },
  {
   "cell_type": "code",
   "execution_count": 31,
   "id": "175900d1",
   "metadata": {},
   "outputs": [
    {
     "name": "stdout",
     "output_type": "stream",
     "text": [
      "KNN Start: 2022-11-02 22:32:17.496556\n",
      "['kNN', 0.9600000000000002, 'N_Neighbor = 4', 'NA', 'NA', 3.5267975330352783]\n",
      "NA seconds\n",
      "Logistics l2 Start: 2022-11-02 22:32:21.023354\n",
      "['Logistic (l2)', 0.8244444444444449, 'C = 5000', 'width', ['1: width', '2: height', '3: mwh', '4: height'], 3.215723991394043]\n",
      "['1: width', '2: height', '3: mwh', '4: height'] seconds\n",
      "Logistics l1 Start: 2022-11-02 22:32:24.239078\n",
      "['Logistic (l1)', 0.8244444444444449, 'C = 300', 'width', ['1: width', '2: height', '3: mwh', '4: height'], 8.564928770065308]\n",
      "['1: width', '2: height', '3: mwh', '4: height'] seconds\n",
      "SVCM l2 Start: 2022-11-02 22:32:32.805007\n",
      "['Linear SVM (l2)', 0.7688888888888893, 'C = 5000', 'width', ['1: mwh', '2: height', '3: mass', '4: height'], 21.54485034942627]\n",
      "['1: mwh', '2: height', '3: mass', '4: height'] seconds\n",
      "SVCM l1 Start: 2022-11-02 22:32:54.350857\n",
      "['Linear SVM (l1)', 0.8044444444444446, 'C = 5000', 'mass', ['1: mwh', '2: height', '3: mass', '4: width'], 5.2124786376953125]\n",
      "['1: mwh', '2: height', '3: mass', '4: width'] seconds\n"
     ]
    },
    {
     "data": {
      "image/png": "[encoded data removed]",
      "text/plain": [
       "<Figure size 144x360 with 1 Axes>"
      ]
     },
     "metadata": {
      "needs_background": "light"
     },
     "output_type": "display_data"
    },
    {
     "data": {
      "image/png": "[encoded data removed]",
      "text/plain": [
       "<Figure size 144x360 with 1 Axes>"
      ]
     },
     "metadata": {
      "needs_background": "light"
     },
     "output_type": "display_data"
    },
    {
     "data": {
      "image/png": "[encoded data removed]",
      "text/plain": [
       "<Figure size 144x360 with 1 Axes>"
      ]
     },
     "metadata": {
      "needs_background": "light"
     },
     "output_type": "display_data"
    },
    {
     "data": {
      "image/png": "[encoded data removed]",
      "text/plain": [
       "<Figure size 144x360 with 1 Axes>"
      ]
     },
     "metadata": {
      "needs_background": "light"
     },
     "output_type": "display_data"
    }
   ],
   "source": [
    "from sklearn.preprocessing import MinMaxScaler\n",
    "sscaler = MinMaxScaler()\n",
    "df_fruits_ext = df_fruits.copy()\n",
    "df_fruits_ext['mwh'] = df_fruits.width * df_fruits.height * (df_fruits.mass**2)\n",
    "#df_fruits_ext['mwh'] = df_fruits.width * df_fruits.height * (df_fruits.color_score**2)\n",
    "X = df_fruits_ext[['mass', 'width', 'height', 'color_score', 'mwh']]\n",
    "XX = sscaler.fit_transform(X.astype(float))\n",
    "X = pd.DataFrame(data = XX,columns = ['mass', 'width', 'height', 'color_score', 'mwh'])\n",
    "y = df_fruits['fruit_label']\n",
    "\n",
    "df = print_output(X, y)"
   ]
  },
  {
   "cell_type": "code",
   "execution_count": null,
   "id": "a5698c89",
   "metadata": {},
   "outputs": [],
   "source": [
    "display(df)"
   ]
  },
  {
   "cell_type": "markdown",
   "id": "f59a623d",
   "metadata": {},
   "source": [
    "### Conclusion\n",
    "\n",
    "We conclude that after these iterations of test we wanted to use KNN with K = 1 and utilizing the derived feature of width*height*(color_score**2) with the width being the top predictor in almost all models except SVM L1 having mass as its top predictor. Based also on resaerch for multi class classification its best to use KNN or Random Forest vs Linear models."
   ]
  },
  {
   "cell_type": "code",
   "execution_count": null,
   "id": "fddb72e5",
   "metadata": {},
   "outputs": [],
   "source": []
  }
 ],
 "metadata": {
  "kernelspec": {
   "display_name": "Python 3 (ipykernel)",
   "language": "python",
   "name": "python3"
  },
  "language_info": {
   "codemirror_mode": {
    "name": "ipython",
    "version": 3
   },
   "file_extension": ".py",
   "mimetype": "text/x-python",
   "name": "python",
   "nbconvert_exporter": "python",
   "pygments_lexer": "ipython3",
   "version": "3.9.12"
  }
 },
 "nbformat": 4,
 "nbformat_minor": 5
}
